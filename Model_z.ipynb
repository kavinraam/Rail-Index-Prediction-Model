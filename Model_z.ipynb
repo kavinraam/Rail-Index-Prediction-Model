{
  "nbformat": 4,
  "nbformat_minor": 0,
  "metadata": {
    "colab": {
      "provenance": [],
      "mount_file_id": "1wi9LJzSeeidHSEYeGrdmxJdDmde_Pp6_",
      "authorship_tag": "ABX9TyOEqIfzZFKfutJpwwlMjQ7P",
      "include_colab_link": true
    },
    "kernelspec": {
      "name": "python3",
      "display_name": "Python 3"
    },
    "language_info": {
      "name": "python"
    }
  },
  "cells": [
    {
      "cell_type": "markdown",
      "metadata": {
        "id": "view-in-github",
        "colab_type": "text"
      },
      "source": [
        "<a href=\"https://colab.research.google.com/github/kavinraam/Rail-Index-Prediction-Model/blob/main/Model_z.ipynb\" target=\"_parent\"><img src=\"https://colab.research.google.com/assets/colab-badge.svg\" alt=\"Open In Colab\"/></a>"
      ]
    },
    {
      "cell_type": "code",
      "execution_count": null,
      "metadata": {
        "colab": {
          "base_uri": "https://localhost:8080/"
        },
        "id": "w6EeDqkCsuw7",
        "outputId": "b5196767-bf41-4b72-d8ae-1606c4f7f798"
      },
      "outputs": [
        {
          "output_type": "stream",
          "name": "stderr",
          "text": [
            "[I 2025-07-02 06:06:37,951] A new study created in memory with name: no-name-dfd58d38-58b1-4e47-861d-d63608e6f805\n",
            "[I 2025-07-02 06:07:08,467] Trial 0 finished with value: 0.7372814876112972 and parameters: {'n_estimators': 474, 'max_depth': 20, 'learning_rate': 0.08724375979615565, 'subsample': 0.8561670495145319, 'colsample_bytree': 0.5544350435585677, 'gamma': 0.4941613681153929, 'reg_alpha': 0.906372481421203, 'reg_lambda': 0.5147125617680705, 'min_child_weight': 5, 'colsample_bylevel': 0.9552588212652988}. Best is trial 0 with value: 0.7372814876112972.\n",
            "[I 2025-07-02 06:07:54,911] Trial 1 finished with value: 0.6380636030234095 and parameters: {'n_estimators': 126, 'max_depth': 12, 'learning_rate': 0.00840409222052695, 'subsample': 0.5679977516394104, 'colsample_bytree': 0.9790987771415862, 'gamma': 0.08293288030278712, 'reg_alpha': 0.47577233203637403, 'reg_lambda': 0.5114755511946248, 'min_child_weight': 10, 'colsample_bylevel': 0.7029093047985111}. Best is trial 0 with value: 0.7372814876112972.\n",
            "[I 2025-07-02 06:08:31,221] Trial 2 finished with value: 0.726779329390134 and parameters: {'n_estimators': 854, 'max_depth': 11, 'learning_rate': 0.15789188571216417, 'subsample': 0.995624361812284, 'colsample_bytree': 0.6136534355516945, 'gamma': 0.8555605100676299, 'reg_alpha': 0.33395910012500774, 'reg_lambda': 0.5931539863363934, 'min_child_weight': 3, 'colsample_bylevel': 0.938197282765503}. Best is trial 0 with value: 0.7372814876112972.\n",
            "[I 2025-07-02 06:10:32,759] Trial 3 finished with value: 0.7606074693085799 and parameters: {'n_estimators': 385, 'max_depth': 14, 'learning_rate': 0.008678615873805064, 'subsample': 0.9238613119748609, 'colsample_bytree': 0.7243874475341614, 'gamma': 0.09759349217466229, 'reg_alpha': 0.1070211933830062, 'reg_lambda': 0.042092904014341403, 'min_child_weight': 10, 'colsample_bylevel': 0.5227362896882266}. Best is trial 3 with value: 0.7606074693085799.\n",
            "[I 2025-07-02 06:11:30,372] Trial 4 finished with value: 0.7180120557305446 and parameters: {'n_estimators': 780, 'max_depth': 15, 'learning_rate': 0.02054438119164723, 'subsample': 0.6613338917097032, 'colsample_bytree': 0.8489184548434832, 'gamma': 0.9919102464915517, 'reg_alpha': 0.275139545986432, 'reg_lambda': 0.9139364745449008, 'min_child_weight': 4, 'colsample_bylevel': 0.9803215322332806}. Best is trial 3 with value: 0.7606074693085799.\n",
            "[I 2025-07-02 06:12:21,603] Trial 5 finished with value: 0.7293758911265187 and parameters: {'n_estimators': 207, 'max_depth': 18, 'learning_rate': 0.0152976200377018, 'subsample': 0.7786292468789251, 'colsample_bytree': 0.9826724092916141, 'gamma': 0.456983633136289, 'reg_alpha': 0.2344472147504011, 'reg_lambda': 0.5922537353462464, 'min_child_weight': 1, 'colsample_bylevel': 0.5575704421937386}. Best is trial 3 with value: 0.7606074693085799.\n",
            "[I 2025-07-02 06:13:19,946] Trial 6 finished with value: 0.718408411688986 and parameters: {'n_estimators': 411, 'max_depth': 10, 'learning_rate': 0.014916091115939839, 'subsample': 0.7562949910324634, 'colsample_bytree': 0.934235742739105, 'gamma': 0.9728290762700852, 'reg_alpha': 0.795345392566019, 'reg_lambda': 0.9428187690524074, 'min_child_weight': 2, 'colsample_bylevel': 0.8296015449542927}. Best is trial 3 with value: 0.7606074693085799.\n",
            "[I 2025-07-02 06:15:00,427] Trial 7 finished with value: 0.7422715063497881 and parameters: {'n_estimators': 1395, 'max_depth': 19, 'learning_rate': 0.019522570695357986, 'subsample': 0.8432143284249061, 'colsample_bytree': 0.914973706680807, 'gamma': 0.4526531502410216, 'reg_alpha': 0.24745842661926698, 'reg_lambda': 0.4256982336860393, 'min_child_weight': 7, 'colsample_bylevel': 0.5254479904593612}. Best is trial 3 with value: 0.7606074693085799.\n",
            "[I 2025-07-02 06:16:44,672] Trial 8 finished with value: 0.7197740139309765 and parameters: {'n_estimators': 688, 'max_depth': 8, 'learning_rate': 0.007428458112703067, 'subsample': 0.9589521881480727, 'colsample_bytree': 0.6106820214501378, 'gamma': 0.8341941683844256, 'reg_alpha': 0.6123238356459348, 'reg_lambda': 0.2904119069427693, 'min_child_weight': 5, 'colsample_bylevel': 0.7609582224739071}. Best is trial 3 with value: 0.7606074693085799.\n",
            "[I 2025-07-02 06:17:54,096] Trial 9 finished with value: 0.742336523901964 and parameters: {'n_estimators': 296, 'max_depth': 10, 'learning_rate': 0.013198330424234904, 'subsample': 0.837044441414714, 'colsample_bytree': 0.6810027302341635, 'gamma': 0.2300027987910006, 'reg_alpha': 0.5648114529969521, 'reg_lambda': 0.29170085923429667, 'min_child_weight': 4, 'colsample_bylevel': 0.7882209252439918}. Best is trial 3 with value: 0.7606074693085799.\n",
            "[I 2025-07-02 06:19:03,982] Trial 10 finished with value: 0.7558605452442951 and parameters: {'n_estimators': 1150, 'max_depth': 3, 'learning_rate': 0.44681838457395345, 'subsample': 0.921010868125654, 'colsample_bytree': 0.780815991066149, 'gamma': 0.01552525079691347, 'reg_alpha': 0.0011451983747569061, 'reg_lambda': 0.004118981260992194, 'min_child_weight': 10, 'colsample_bylevel': 0.6500040292942103}. Best is trial 3 with value: 0.7606074693085799.\n",
            "[I 2025-07-02 06:20:24,962] Trial 11 finished with value: 0.7528963614893034 and parameters: {'n_estimators': 1199, 'max_depth': 3, 'learning_rate': 0.21570293419612518, 'subsample': 0.9184892721339633, 'colsample_bytree': 0.7765835757955966, 'gamma': 0.010643091330248058, 'reg_alpha': 0.00504411951126979, 'reg_lambda': 0.0039161972642735784, 'min_child_weight': 10, 'colsample_bylevel': 0.6262865544402897}. Best is trial 3 with value: 0.7606074693085799.\n",
            "[I 2025-07-02 06:21:08,613] Trial 12 finished with value: 0.7075540913193386 and parameters: {'n_estimators': 1022, 'max_depth': 3, 'learning_rate': 0.35477513924749576, 'subsample': 0.9021072096443343, 'colsample_bytree': 0.7506136752856292, 'gamma': 0.22088831459959501, 'reg_alpha': 0.044404259178864966, 'reg_lambda': 0.018166329652878545, 'min_child_weight': 8, 'colsample_bylevel': 0.638789487821727}. Best is trial 3 with value: 0.7606074693085799.\n",
            "[I 2025-07-02 06:22:20,899] Trial 13 finished with value: 0.7327917928825222 and parameters: {'n_estimators': 1424, 'max_depth': 6, 'learning_rate': 0.05735416409135598, 'subsample': 0.6604796593838337, 'colsample_bytree': 0.8215838814298919, 'gamma': 0.2006534301873687, 'reg_alpha': 0.11105409326238797, 'reg_lambda': 0.12704836157133692, 'min_child_weight': 8, 'colsample_bylevel': 0.5010389955844577}. Best is trial 3 with value: 0.7606074693085799.\n",
            "[I 2025-07-02 06:23:37,429] Trial 14 finished with value: 0.7665004915686061 and parameters: {'n_estimators': 1131, 'max_depth': 15, 'learning_rate': 0.03381937182468067, 'subsample': 0.9335331341177231, 'colsample_bytree': 0.6860209479404389, 'gamma': 0.1421166071929194, 'reg_alpha': 0.13934828136515354, 'reg_lambda': 0.19134612492666836, 'min_child_weight': 9, 'colsample_bylevel': 0.6171273764783208}. Best is trial 14 with value: 0.7665004915686061.\n",
            "[I 2025-07-02 06:24:14,937] Trial 15 finished with value: 0.7355012723406291 and parameters: {'n_estimators': 579, 'max_depth': 15, 'learning_rate': 0.037716338395736286, 'subsample': 0.9907446438079932, 'colsample_bytree': 0.6910266442236281, 'gamma': 0.607977100930272, 'reg_alpha': 0.41695273120415133, 'reg_lambda': 0.18189855331684612, 'min_child_weight': 8, 'colsample_bylevel': 0.5814461751858261}. Best is trial 14 with value: 0.7665004915686061.\n",
            "[I 2025-07-02 06:27:00,676] Trial 16 finished with value: 0.744989875807606 and parameters: {'n_estimators': 1006, 'max_depth': 14, 'learning_rate': 0.005017955851764446, 'subsample': 0.7038061434929688, 'colsample_bytree': 0.6730066532570665, 'gamma': 0.3268233827631395, 'reg_alpha': 0.13966848880899663, 'reg_lambda': 0.20378337745831487, 'min_child_weight': 7, 'colsample_bylevel': 0.6984590087915169}. Best is trial 14 with value: 0.7665004915686061.\n",
            "[I 2025-07-02 06:28:03,713] Trial 17 finished with value: 0.7324360298720951 and parameters: {'n_estimators': 1235, 'max_depth': 16, 'learning_rate': 0.04359433335744093, 'subsample': 0.5237255550803006, 'colsample_bytree': 0.5194488601395142, 'gamma': 0.3380407212472745, 'reg_alpha': 0.6850501186676744, 'reg_lambda': 0.33190274338067727, 'min_child_weight': 9, 'colsample_bylevel': 0.567838382007258}. Best is trial 14 with value: 0.7665004915686061.\n",
            "[I 2025-07-02 06:29:12,673] Trial 18 finished with value: 0.7694232012581499 and parameters: {'n_estimators': 940, 'max_depth': 13, 'learning_rate': 0.03434789406524535, 'subsample': 0.7949641584860221, 'colsample_bytree': 0.7048270636408362, 'gamma': 0.10895672932204054, 'reg_alpha': 0.16732723475916206, 'reg_lambda': 0.759304402176893, 'min_child_weight': 7, 'colsample_bylevel': 0.8674512681171598}. Best is trial 18 with value: 0.7694232012581499.\n",
            "[I 2025-07-02 06:30:03,363] Trial 19 finished with value: 0.7303782813925319 and parameters: {'n_estimators': 923, 'max_depth': 13, 'learning_rate': 0.030688503627224435, 'subsample': 0.8032180276812461, 'colsample_bytree': 0.6217793079287564, 'gamma': 0.6712251149920677, 'reg_alpha': 0.3780741378947895, 'reg_lambda': 0.8277626929688908, 'min_child_weight': 6, 'colsample_bylevel': 0.8841829974210816}. Best is trial 18 with value: 0.7694232012581499.\n"
          ]
        },
        {
          "output_type": "stream",
          "name": "stdout",
          "text": [
            "\n",
            "✅ Optuna optimization finished.\n",
            "Best hyperparameters: {'n_estimators': 940, 'max_depth': 13, 'learning_rate': 0.03434789406524535, 'subsample': 0.7949641584860221, 'colsample_bytree': 0.7048270636408362, 'gamma': 0.10895672932204054, 'reg_alpha': 0.16732723475916206, 'reg_lambda': 0.759304402176893, 'min_child_weight': 7, 'colsample_bylevel': 0.8674512681171598}\n",
            "Best R² score (cross-validated): 0.7694\n",
            "\n",
            "✅ Optimized XGBoost Results (Optuna) on Test Set:\n",
            "R² Score: 0.7762\n",
            "MAE     : 0.0667\n",
            "MSE     : 0.0091\n",
            "RMSE    : 0.0951\n"
          ]
        }
      ],
      "source": [
        "#CODE WE GOT O/P OF 0.79 XGBOOST\n",
        "import pandas as pd\n",
        "import numpy as np\n",
        "from sklearn.model_selection import train_test_split, cross_val_score\n",
        "from sklearn.metrics import r2_score, mean_absolute_error, mean_squared_error\n",
        "from xgboost import XGBRegressor\n",
        "import optuna\n",
        "\n",
        "# Load the datasets\n",
        "vri_df = pd.read_csv(r\"/content/drive/MyDrive/Intern-CRIS/Dataset/training_data_vri.csv\")\n",
        "lri_df = pd.read_csv(r\"/content/drive/MyDrive/Intern-CRIS/Dataset/training_data_lri.csv\")\n",
        "\n",
        "# Concatenate and handle missing values\n",
        "df = pd.concat([vri_df, lri_df], ignore_index=True).dropna()\n",
        "\n",
        "# Filter data where RI2 > RI1\n",
        "df = df[df['RI2'] > df['RI1']]\n",
        "\n",
        "# Convert date columns to datetime objects\n",
        "df['DATE1'] = pd.to_datetime(df['DATE1'])\n",
        "df['DATE2'] = pd.to_datetime(df['DATE2'])\n",
        "\n",
        "# Create TIME_DIFF feature\n",
        "df['TIME_DIFF'] = (df['DATE2'] - df['DATE1']).dt.days\n",
        "\n",
        "# Extract date components\n",
        "df['DATE1_YEAR'] = df['DATE1'].dt.year\n",
        "df['DATE1_MONTH'] = df['DATE1'].dt.month\n",
        "df['DATE1_DAY'] = df['DATE1'].dt.day\n",
        "df['DATE2_YEAR'] = df['DATE2'].dt.year\n",
        "df['DATE2_MONTH'] = df['DATE2'].dt.month\n",
        "df['DATE2_DAY'] = df['DATE2'].dt.day\n",
        "\n",
        "# Create interaction features\n",
        "df['DATE2_YEAR_RI1_INTERACTION'] = df['DATE2_YEAR'] * df['RI1']\n",
        "df['TIME_DIFF_RI1_INTERACTION'] = df['TIME_DIFF'] * df['RI1']\n",
        "df['DATE2_YEAR_TIME_DIFF_INTERACTION'] = df['DATE2_YEAR'] * df['TIME_DIFF']\n",
        "df['DATE2_MONTH_RI1_INTERACTION'] = df['DATE2_MONTH'] * df['RI1']\n",
        "\n",
        "# Create polynomial features\n",
        "df['RI1_squared'] = df['RI1']**2\n",
        "df['GMT_squared'] = df['GMT']**2\n",
        "df['TIME_DIFF_squared'] = df['TIME_DIFF']**2\n",
        "\n",
        "\n",
        "# Define features and target\n",
        "X = df[[\"LINECODE\", \"SECCODE\", \"BLOCKNO\", \"KMFROM\", \"PARAM\", \"RI1\", \"GMT\",\n",
        "        \"TIME_DIFF\", \"DATE1_YEAR\", \"DATE1_MONTH\", \"DATE1_DAY\", \"DATE2_YEAR\",\n",
        "        \"DATE2_MONTH\", \"DATE2_DAY\", \"DATE2_YEAR_RI1_INTERACTION\",\n",
        "        \"TIME_DIFF_RI1_INTERACTION\", \"DATE2_YEAR_TIME_DIFF_INTERACTION\",\n",
        "        \"DATE2_MONTH_RI1_INTERACTION\", \"RI1_squared\", \"GMT_squared\",\n",
        "        \"TIME_DIFF_squared\"]]\n",
        "y = df[\"RI2\"]\n",
        "\n",
        "# Apply one-hot encoding\n",
        "X = pd.get_dummies(X, drop_first=True)\n",
        "\n",
        "# Split data\n",
        "X_train, X_test, y_train, y_test = train_test_split(\n",
        "    X, y, test_size=0.3, random_state=42\n",
        ")\n",
        "\n",
        "def objective(trial):\n",
        "    \"\"\"Defines the expanded hyperparameter search space and returns the cross-validated R² score.\"\"\"\n",
        "    xgb_params = {\n",
        "        'n_estimators': trial.suggest_int('n_estimators', 100, 1500),\n",
        "        'max_depth': trial.suggest_int('max_depth', 3, 20),\n",
        "        'learning_rate': trial.suggest_float('learning_rate', 0.005, 0.5, log=True),\n",
        "        'subsample': trial.suggest_float('subsample', 0.5, 1.0),\n",
        "        'colsample_bytree': trial.suggest_float('colsample_bytree', 0.5, 1.0),\n",
        "        'gamma': trial.suggest_float('gamma', 0, 1.0),\n",
        "        'reg_alpha': trial.suggest_float('reg_alpha', 0, 1.0),\n",
        "        'reg_lambda': trial.suggest_float('reg_lambda', 0, 1.0),\n",
        "        'min_child_weight': trial.suggest_int('min_child_weight', 1, 10),\n",
        "        'colsample_bylevel': trial.suggest_float('colsample_bylevel', 0.5, 1.0),\n",
        "        'random_state': 42,\n",
        "        'n_jobs': -1\n",
        "    }\n",
        "\n",
        "    model = XGBRegressor(**xgb_params)\n",
        "\n",
        "    # Perform cross-validation\n",
        "    scores = cross_val_score(model, X_train, y_train, cv=5, scoring='r2', n_jobs=-1)\n",
        "\n",
        "    # Return the mean R² score\n",
        "    return scores.mean()\n",
        "\n",
        "# Create an Optuna study and optimize\n",
        "study = optuna.create_study(direction='maximize')\n",
        "study.optimize(objective, n_trials=20)\n",
        "\n",
        "print(\"\\n✅ Optuna optimization finished.\")\n",
        "print(\"Best hyperparameters:\", study.best_params)\n",
        "print(f\"Best R² score (cross-validated): {study.best_value:.4f}\")\n",
        "\n",
        "# Train the final XGBoost model with the best parameters\n",
        "best_xgb_model_optuna = XGBRegressor(**study.best_params, random_state=42, n_jobs=-1)\n",
        "best_xgb_model_optuna.fit(X_train, y_train)\n",
        "\n",
        "# Evaluate the model on the test set\n",
        "xgb_optuna_preds = best_xgb_model_optuna.predict(X_test)\n",
        "\n",
        "print(\"\\n✅ Optimized XGBoost Results (Optuna) on Test Set:\")\n",
        "print(f\"R² Score: {r2_score(y_test, xgb_optuna_preds):.4f}\")\n",
        "print(f\"MAE     : {mean_absolute_error(y_test, xgb_optuna_preds):.4f}\")\n",
        "print(f\"MSE     : {mean_squared_error(y_test, xgb_optuna_preds):.4f}\")\n",
        "print(f\"RMSE    : {np.sqrt(mean_squared_error(y_test, xgb_optuna_preds)):.4f}\")"
      ]
    },
    {
      "cell_type": "code",
      "source": [],
      "metadata": {
        "id": "cDylTUmkvUbW"
      },
      "execution_count": null,
      "outputs": []
    }
  ]
}